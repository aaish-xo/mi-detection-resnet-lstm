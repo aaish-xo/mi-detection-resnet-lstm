{
 "cells": [
  {
   "cell_type": "markdown",
   "id": "64d5a438-1197-4724-97ea-7af18456f6a6",
   "metadata": {},
   "source": [
    "# 02 - Preprocessing A2C Echocardiographic Videos\r\n",
    "\r\n",
    "This notebook prepares the A2C (Apical 2 Chamber) video data for deep learning b\n",
    "y:\r\n",
    "- Labeling videos as MI or non-MI based on filenames\r\n",
    "- Stratified splitting into training, validation, and test sets\r\n",
    "- Copying video files into split folders\r\n",
    "- Extracting a fixed number of frames per video\r\n",
    "- Saving extracted frames to structured direc\n",
    "The output of this notebook is used as input to the model training phase.tories\r\n"
   ]
  },
  {
   "cell_type": "code",
   "execution_count": 5,
   "id": "b8b12475-e981-4db3-9a7b-1a96296a33d1",
   "metadata": {},
   "outputs": [],
   "source": [
    "import os\n",
    "import shutil\n",
    "from sklearn.model_selection import StratifiedShuffleSplit\n",
    "import myutils  "
   ]
  },
  {
   "cell_type": "code",
   "execution_count": 6,
   "id": "f511cba6-4479-4b26-90dc-8341f24565e3",
   "metadata": {},
   "outputs": [],
   "source": [
    "path2data = \"../data\"\n",
    "sub_folder = \"A2C\"\n",
    "sub_folder_jpg = \"A2C_jpg\"\n",
    "path2aCatgs = os.path.join(path2data, sub_folder)\n",
    "\n",
    "train_folder = os.path.join(path2data, \"A2C_training\")\n",
    "val_folder = os.path.join(path2data, \"A2C_validation\")\n",
    "test_folder = os.path.join(path2data, \"A2C_test\")\n",
    "\n",
    "for folder in [train_folder, val_folder, test_folder]:\n",
    "    os.makedirs(folder, exist_ok=True)\n"
   ]
  },
  {
   "cell_type": "code",
   "execution_count": 7,
   "id": "37c0625f-d2df-41fc-aa23-5d063fb00d67",
   "metadata": {},
   "outputs": [
    {
     "name": "stdout",
     "output_type": "stream",
     "text": [
      "Found 148 videos.\n"
     ]
    }
   ],
   "source": [
    "videos, labels = [], []\n",
    "for root, _, files in os.walk(path2aCatgs):\n",
    "    for file in files:\n",
    "        if file.endswith(\".avi\"):\n",
    "            videos.append(os.path.join(root, file))\n",
    "            labels.append(0 if \"n\" in file.lower() else 1)\n",
    "\n",
    "print(f\"Found {len(videos)} videos.\")\n"
   ]
  },
  {
   "cell_type": "code",
   "execution_count": 8,
   "id": "ed4b3fc4-089f-4ad0-a475-bb7201ffc9a3",
   "metadata": {},
   "outputs": [
    {
     "name": "stdout",
     "output_type": "stream",
     "text": [
      "Training set: 118 videos\n",
      "Validation set: 15 videos\n",
      "Final Test set: 15 videos\n"
     ]
    }
   ],
   "source": [
    "sss = StratifiedShuffleSplit(n_splits=1, test_size=0.2, random_state=0)\n",
    "train_idx, test_idx = next(sss.split(videos, labels))\n",
    "\n",
    "train_videos = [videos[i] for i in train_idx]\n",
    "train_labels = [labels[i] for i in train_idx]\n",
    "test_videos = [videos[i] for i in test_idx]\n",
    "test_labels = [labels[i] for i in test_idx]\n",
    "\n",
    "sss_val = StratifiedShuffleSplit(n_splits=1, test_size=0.5, random_state=0)\n",
    "val_idx, final_test_idx = next(sss_val.split(test_videos, test_labels))\n",
    "\n",
    "val_videos = [test_videos[i] for i in val_idx]\n",
    "val_labels = [test_labels[i] for i in val_idx]\n",
    "final_test_videos = [test_videos[i] for i in final_test_idx]\n",
    "final_test_labels = [test_labels[i] for i in final_test_idx]\n",
    "\n",
    "print(f\"Training set: {len(train_videos)} videos\")\n",
    "print(f\"Validation set: {len(val_videos)} videos\")\n",
    "print(f\"Final Test set: {len(final_test_videos)} videos\")\n"
   ]
  },
  {
   "cell_type": "code",
   "execution_count": 9,
   "id": "1934f178-a160-4d73-9888-efe8de91060d",
   "metadata": {},
   "outputs": [],
   "source": [
    "def move_videos(video_list, dest_folder):\n",
    "    for video in video_list:\n",
    "        shutil.copy(video, os.path.join(dest_folder, os.path.basename(video)))\n",
    "\n",
    "move_videos(train_videos, train_folder)\n",
    "move_videos(val_videos, val_folder)\n",
    "move_videos(final_test_videos, test_folder)\n"
   ]
  },
  {
   "cell_type": "code",
   "execution_count": 10,
   "id": "ce94ebf0-80e8-4f39-be01-aa99a5eb60ef",
   "metadata": {},
   "outputs": [
    {
     "name": "stdout",
     "output_type": "stream",
     "text": [
      "Total frames in training set: 1888\n",
      "Total frames in validation set: 240\n",
      "Total frames in final test set: 240\n"
     ]
    }
   ],
   "source": [
    "n_frames = 15\n",
    "train_frame_count = 0\n",
    "val_frame_count = 0\n",
    "test_frame_count = 0\n",
    "\n",
    "for split, videos_folder in zip([\"train\", \"val\", \"final_test\"], [train_folder, val_folder, test_folder]):\n",
    "    for video in os.listdir(videos_folder):\n",
    "        video_path = os.path.join(videos_folder, video)\n",
    "        frames, _ = myutils.get_frames(video_path, n_frames=n_frames)\n",
    "        path2store = video_path.replace(sub_folder, sub_folder_jpg).replace(\".avi\", \"\")\n",
    "        os.makedirs(path2store, exist_ok=True)\n",
    "        myutils.store_frames(frames, path2store)\n",
    "\n",
    "        if split == \"train\":\n",
    "            train_frame_count += len(frames)\n",
    "        elif split == \"val\":\n",
    "            val_frame_count += len(frames)\n",
    "        else:\n",
    "            test_frame_count += len(frames)\n",
    "\n",
    "print(f\"Total frames in training set: {train_frame_count}\")\n",
    "print(f\"Total frames in validation set: {val_frame_count}\")\n",
    "print(f\"Total frames in final test set: {test_frame_count}\")\n"
   ]
  },
  {
   "cell_type": "code",
   "execution_count": 11,
   "id": "036186ea-513c-40a5-9f06-2528d6603396",
   "metadata": {},
   "outputs": [
    {
     "name": "stdout",
     "output_type": "stream",
     "text": [
      "Training: 63 MI videos, 55 non-MI videos\n",
      "Validation: 8 MI videos, 7 non-MI videos\n",
      "Test: 8 MI videos, 7 non-MI videos\n"
     ]
    }
   ],
   "source": [
    "def count_videos(folder):\n",
    "    mi_count = 0\n",
    "    non_mi_count = 0\n",
    "    for file in os.listdir(folder):\n",
    "        if file.endswith(\".avi\"):\n",
    "            if \"n\" in file.lower():\n",
    "                non_mi_count += 1\n",
    "            else:\n",
    "                mi_count += 1\n",
    "    return mi_count, non_mi_count\n",
    "\n",
    "for name, path in {\n",
    "    \"Training\": train_folder,\n",
    "    \"Validation\": val_folder,\n",
    "    \"Test\": test_folder\n",
    "}.items():\n",
    "    mi, non_mi = count_videos(path)\n",
    "    print(f\"{name}: {mi} MI videos, {non_mi} non-MI videos\")\n"
   ]
  },
  {
   "cell_type": "code",
   "execution_count": null,
   "id": "350d2882-4cdb-429c-a321-15a0b0e4dbd4",
   "metadata": {},
   "outputs": [],
   "source": []
  }
 ],
 "metadata": {
  "kernelspec": {
   "display_name": "Python 3 (ipykernel)",
   "language": "python",
   "name": "python3"
  },
  "language_info": {
   "codemirror_mode": {
    "name": "ipython",
    "version": 3
   },
   "file_extension": ".py",
   "mimetype": "text/x-python",
   "name": "python",
   "nbconvert_exporter": "python",
   "pygments_lexer": "ipython3",
   "version": "3.12.4"
  }
 },
 "nbformat": 4,
 "nbformat_minor": 5
}
