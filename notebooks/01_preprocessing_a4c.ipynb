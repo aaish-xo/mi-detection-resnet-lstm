{
 "cells": [
  {
   "cell_type": "markdown",
   "id": "87824ac6-4dae-48a4-a05b-a7f2623ec345",
   "metadata": {},
   "source": [
    "# 01 - Preprocessing A4C Echocardiographic Videos\r\n",
    "\r\n",
    "This notebook performs data preprocessing for the A4C (Apical 4 Chamber) view from the HMC-QU echocardiographic dataset. It includes:\r\n",
    "\r\n",
    "- Labeling videos as MI or non-MI based on filenames\r\n",
    "- Stratified splitting into training, validation, and test sets\r\n",
    "- Copying video files into split folders\r\n",
    "- Extracting a fixed number of frames per video\r\n",
    "- Saving extracted frames to structured directories\r\n",
    "\r\n",
    "The output of this notebook is used as input to the model trainie.\r\n",
    "pection\r\n"
   ]
  },
  {
   "cell_type": "code",
   "execution_count": 17,
   "id": "14d126fc-4e1a-4b0c-9448-ec173cea7758",
   "metadata": {},
   "outputs": [],
   "source": [
    "import os\n",
    "import shutil\n",
    "from sklearn.model_selection import StratifiedShuffleSplit\n",
    "import myutils  "
   ]
  },
  {
   "cell_type": "code",
   "execution_count": 18,
   "id": "796f4651-14f1-4363-834b-b7c1b058b5a9",
   "metadata": {},
   "outputs": [],
   "source": [
    "path2data = \"../data\"  \n",
    "sub_folder = \"A4C\"\n",
    "sub_folder_jpg = \"A4C_jpg\"\n",
    "path2aCatgs = os.path.join(path2data, sub_folder)\n",
    "\n",
    "train_folder = os.path.join(path2data, \"A4C_training\")\n",
    "val_folder = os.path.join(path2data, \"A4C_validation\")\n",
    "test_folder = os.path.join(path2data, \"A4C_test\")\n",
    "\n",
    "for folder in [train_folder, val_folder, test_folder]:\n",
    "    os.makedirs(folder, exist_ok=True)\n",
    "\n"
   ]
  },
  {
   "cell_type": "code",
   "execution_count": 19,
   "id": "253bda64-82b7-4d5c-b271-c99c10236f58",
   "metadata": {},
   "outputs": [],
   "source": [
    "videos, labels = [], []\n",
    "for root, _, files in os.walk(path2aCatgs):\n",
    "    for file in files:\n",
    "        if file.endswith(\".avi\"):\n",
    "            videos.append(os.path.join(root, file))\n",
    "            labels.append(0 if \"n\" in file.lower() else 1)\n",
    "\n"
   ]
  },
  {
   "cell_type": "code",
   "execution_count": 20,
   "id": "9790d14f-396d-44b8-81dc-a3893b4149d2",
   "metadata": {},
   "outputs": [
    {
     "name": "stdout",
     "output_type": "stream",
     "text": [
      "Training set: 101 videos\n",
      "Validation set: 13 videos\n",
      "Final Test set: 13 videos\n"
     ]
    }
   ],
   "source": [
    "sss = StratifiedShuffleSplit(n_splits=1, test_size=0.2, random_state=0)\n",
    "train_idx, test_idx = next(sss.split(videos, labels))\n",
    "\n",
    "train_videos = [videos[i] for i in train_idx]\n",
    "train_labels = [labels[i] for i in train_idx]\n",
    "test_videos = [videos[i] for i in test_idx]\n",
    "test_labels = [labels[i] for i in test_idx]\n",
    "\n",
    "sss_val = StratifiedShuffleSplit(n_splits=1, test_size=0.5, random_state=0)\n",
    "val_idx, final_test_idx = next(sss_val.split(test_videos, test_labels))\n",
    "\n",
    "val_videos = [test_videos[i] for i in val_idx]\n",
    "val_labels = [test_labels[i] for i in val_idx]\n",
    "final_test_videos = [test_videos[i] for i in final_test_idx]\n",
    "final_test_labels = [test_labels[i] for i in final_test_idx]\n",
    "\n",
    "print(f\"Training set: {len(train_videos)} videos\")\n",
    "print(f\"Validation set: {len(val_videos)} videos\")\n",
    "print(f\"Final Test set: {len(final_test_videos)} videos\")\n",
    "\n"
   ]
  },
  {
   "cell_type": "code",
   "execution_count": 21,
   "id": "8ea26b39-dc86-42ac-b48f-09553170a5fc",
   "metadata": {},
   "outputs": [],
   "source": [
    "def move_videos(video_list, dest_folder):\n",
    "    for video in video_list:\n",
    "        shutil.copy(video, os.path.join(dest_folder, os.path.basename(video)))\n",
    "\n",
    "move_videos(train_videos, train_folder)\n",
    "move_videos(val_videos, val_folder)\n",
    "move_videos(final_test_videos, test_folder)\n"
   ]
  },
  {
   "cell_type": "code",
   "execution_count": 22,
   "id": "883569f6-48c1-4baa-82e1-5068e842acd6",
   "metadata": {},
   "outputs": [
    {
     "name": "stdout",
     "output_type": "stream",
     "text": [
      "Total frames in training set: 1616\n",
      "Total frames in validation set: 208\n",
      "Total frames in final test set: 208\n"
     ]
    }
   ],
   "source": [
    "n_frames = 15\n",
    "train_frame_count = 0\n",
    "val_frame_count = 0\n",
    "test_frame_count = 0\n",
    "\n",
    "for split, videos_folder in zip([\"train\", \"val\", \"final_test\"], [train_folder, val_folder, test_folder]):\n",
    "    for video in os.listdir(videos_folder):\n",
    "        video_path = os.path.join(videos_folder, video)\n",
    "        frames, _ = myutils.get_frames(video_path, n_frames=n_frames)\n",
    "        path2store = video_path.replace(sub_folder, sub_folder_jpg).replace(\".avi\", \"\")\n",
    "        os.makedirs(path2store, exist_ok=True)\n",
    "        myutils.store_frames(frames, path2store)\n",
    "\n",
    "        if split == \"train\":\n",
    "            train_frame_count += len(frames)\n",
    "        elif split == \"val\":\n",
    "            val_frame_count += len(frames)\n",
    "        else:\n",
    "            test_frame_count += len(frames)\n",
    "\n",
    "print(f\"Total frames in training set: {train_frame_count}\")\n",
    "print(f\"Total frames in validation set: {val_frame_count}\")\n",
    "print(f\"Total frames in final test set: {test_frame_count}\")\n",
    "\n"
   ]
  },
  {
   "cell_type": "code",
   "execution_count": 23,
   "id": "08f3ce29-72c7-4f9a-b883-c6823989c677",
   "metadata": {},
   "outputs": [
    {
     "name": "stdout",
     "output_type": "stream",
     "text": [
      "Training: 60 MI videos, 41 non-MI videos\n",
      "Validation: 8 MI videos, 5 non-MI videos\n",
      "Test: 8 MI videos, 5 non-MI videos\n"
     ]
    }
   ],
   "source": [
    "def count_videos(folder):\n",
    "    mi_count = 0\n",
    "    non_mi_count = 0\n",
    "    for file in os.listdir(folder):\n",
    "        if file.endswith(\".avi\"):\n",
    "            if \"n\" in file.lower():\n",
    "                non_mi_count += 1\n",
    "            else:\n",
    "                mi_count += 1\n",
    "    return mi_count, non_mi_count\n",
    "\n",
    "for name, path in {\n",
    "    \"Training\": train_folder,\n",
    "    \"Validation\": val_folder,\n",
    "    \"Test\": test_folder\n",
    "}.items():\n",
    "    mi, non_mi = count_videos(path)\n",
    "    print(f\"{name}: {mi} MI videos, {non_mi} non-MI videos\")\n"
   ]
  },
  {
   "cell_type": "code",
   "execution_count": 24,
   "id": "8e8f7c27-ba2e-455c-978e-d7e034f90c23",
   "metadata": {},
   "outputs": [
    {
     "name": "stdout",
     "output_type": "stream",
     "text": [
      "✅ Saved A4C video splits to a4c_video_splits.pkl\n"
     ]
    }
   ],
   "source": [
    "import pickle\n",
    "\n",
    "with open(\"a4c_video_splits.pkl\", \"wb\") as f:\n",
    "    pickle.dump({\n",
    "        \"train_videos\": train_videos,\n",
    "        \"val_videos\": val_videos,\n",
    "        \"final_test_videos\": final_test_videos,\n",
    "        \"train_labels\": train_labels,\n",
    "        \"val_labels\": val_labels,\n",
    "        \"final_test_labels\": final_test_labels\n",
    "    }, f)\n",
    "\n",
    "print(\"✅ Saved A4C video splits to a4c_video_splits.pkl\")\n"
   ]
  },
  {
   "cell_type": "code",
   "execution_count": null,
   "id": "fe6125ec-f75a-4f4e-b3e6-2a7c474b0268",
   "metadata": {},
   "outputs": [],
   "source": []
  }
 ],
 "metadata": {
  "kernelspec": {
   "display_name": "Python 3 (ipykernel)",
   "language": "python",
   "name": "python3"
  },
  "language_info": {
   "codemirror_mode": {
    "name": "ipython",
    "version": 3
   },
   "file_extension": ".py",
   "mimetype": "text/x-python",
   "name": "python",
   "nbconvert_exporter": "python",
   "pygments_lexer": "ipython3",
   "version": "3.12.4"
  }
 },
 "nbformat": 4,
 "nbformat_minor": 5
}
